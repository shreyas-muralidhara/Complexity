{
  "nbformat": 4,
  "nbformat_minor": 0,
  "metadata": {
    "colab": {
      "name": "NLP_Final.ipynb",
      "provenance": [],
      "collapsed_sections": [],
      "include_colab_link": true
    },
    "kernelspec": {
      "name": "python3",
      "display_name": "Python 3"
    }
  },
  "cells": [
    {
      "cell_type": "markdown",
      "metadata": {
        "id": "view-in-github",
        "colab_type": "text"
      },
      "source": [
        "<a href=\"https://colab.research.google.com/github/shreyas-muralidhara/Complexity/blob/master/NLP_Final.ipynb\" target=\"_parent\"><img src=\"https://colab.research.google.com/assets/colab-badge.svg\" alt=\"Open In Colab\"/></a>"
      ]
    },
    {
      "cell_type": "code",
      "metadata": {
        "id": "FT85aH2v4vep",
        "outputId": "970245d8-ca72-43fb-adc2-4641e14d3b43",
        "colab": {
          "base_uri": "https://localhost:8080/"
        }
      },
      "source": [
        "from google.colab import drive\n",
        "drive.mount('/content/drive')"
      ],
      "execution_count": null,
      "outputs": [
        {
          "output_type": "stream",
          "text": [
            "Drive already mounted at /content/drive; to attempt to forcibly remount, call drive.mount(\"/content/drive\", force_remount=True).\n"
          ],
          "name": "stdout"
        }
      ]
    },
    {
      "cell_type": "markdown",
      "metadata": {
        "id": "CkRC2A8cgVyO"
      },
      "source": [
        "### Import Libraries"
      ]
    },
    {
      "cell_type": "code",
      "metadata": {
        "id": "hhJzgy9m2mg8"
      },
      "source": [
        "import pandas as pd\n"
      ],
      "execution_count": null,
      "outputs": []
    },
    {
      "cell_type": "markdown",
      "metadata": {
        "id": "LU90bCnMLD1c"
      },
      "source": [
        "####Load the dataset to dataframe"
      ]
    },
    {
      "cell_type": "code",
      "metadata": {
        "id": "grQ9un6G5I1e",
        "outputId": "2b094f48-6b6a-45c2-eb5c-3140f3087095",
        "colab": {
          "base_uri": "https://localhost:8080/"
        }
      },
      "source": [
        "email_df = pd.read_csv('/content/drive/Shared drives/NLP Project/enron_05_17_2015_with_labels_v2.csv')\n",
        "\n",
        "#Copy all the columns except the first column\n",
        "email_df = email_df.iloc[:,1:]\n",
        "print('shape of the email dataframe:', email_df.shape)\n",
        "\n",
        "#Cleaning the To and From columns, split them into list in case of multiple values\n",
        "email_df.To = email_df.To.str.lstrip(\"frozenset({'\")\n",
        "email_df.To = email_df.To.str.rstrip(\"'})\")\n",
        "#email_df.To = email_df.To.str.split(',')\n",
        "\n",
        "email_df.From = email_df.From.str.lstrip(\"frozenset({'\")\n",
        "email_df.From = email_df.From.str.rstrip(\"'})\")\n",
        "#email_df.From = email_df.From.str.split(',')"
      ],
      "execution_count": 105,
      "outputs": [
        {
          "output_type": "stream",
          "text": [
            "/usr/local/lib/python3.6/dist-packages/IPython/core/interactiveshell.py:2718: DtypeWarning: Columns (9) have mixed types.Specify dtype option on import or set low_memory=False.\n",
            "  interactivity=interactivity, compiler=compiler, result=result)\n"
          ],
          "name": "stderr"
        },
        {
          "output_type": "stream",
          "text": [
            "shape of the email dataframe: (517401, 51)\n"
          ],
          "name": "stdout"
        }
      ]
    },
    {
      "cell_type": "code",
      "metadata": {
        "id": "jEgWJEc53yqf",
        "outputId": "039738d1-a734-4069-b1a5-61b4402e8da8",
        "colab": {
          "base_uri": "https://localhost:8080/"
        }
      },
      "source": [
        "# Consider the necessary columns, without the category & labels\n",
        "features_df = email_df.iloc[:,:14]\n",
        "\n",
        "pd.set_option('display.max_rows', 100)\n",
        "#print(email_df)\n",
        "\n",
        "# Select the top  receivers of emails, extract the emails sent by them - \n",
        "# 1.SYMES-K(kate.symes@enron.com)\n",
        "# 2.DASOVICH-J(jeff.dasovich@enron.com)\n",
        "# 3.MANN-K(kay.mann@enron.com)\n",
        "\n",
        "#Extracting Profile 1\n",
        "#extract the emails that were sent to SYMES-K and received by SYMES-K\n",
        "SYMESK_df = features_df[features_df['To'].str.contains('kate.symes@enron.com', na=False)]\n",
        "SYMESK_df = SYMESK_df.append(features_df[features_df['From'].str.contains('kate.symes@enron.com', na=False)], ignore_index=True)\n",
        "print(SYMESK_df.shape)\n",
        "\n",
        "#Extracting Profile 2\n",
        "#extract the emails that were sent to SYMES-K and received by SYMES-K\n",
        "DASOVICHJ_df = features_df[features_df['To'].str.contains('jeff.dasovich@enron.com', na=False)]\n",
        "DASOVICHJ_df = DASOVICHJ_df.append(features_df[features_df['From'].str.contains('jeff.dasovich@enron.com', na=False)], ignore_index=True)\n",
        "print(DASOVICHJ_df.shape)\n",
        "\n",
        "#Extracting Profile 3\n",
        "#extract the emails that were sent to SYMES-K and received by SYMES-K\n",
        "MANNK_df = features_df[features_df['To'].str.contains('kay.mann@enron.com', na=False)]\n",
        "MANNK_df = MANNK_df.append(features_df[features_df['From'].str.contains('kay.mann@enron.com', na=False)], ignore_index=True)\n",
        "print(MANNK_df.shape)\n",
        "\n",
        "#features_df.groupby(['To'])['To'].count().reset_index(name='count').sort_values(['count'], ascending=False).head(50)# Cat_1_level_2.unique()\n"
      ],
      "execution_count": 141,
      "outputs": [
        {
          "output_type": "stream",
          "text": [
            "(10908, 14)\n",
            "(26033, 14)\n",
            "(23224, 14)\n"
          ],
          "name": "stdout"
        }
      ]
    },
    {
      "cell_type": "code",
      "metadata": {
        "id": "SHYPW8hq4dSO",
        "outputId": "e9f6c172-535b-4189-c2e1-8f73f72b114a",
        "colab": {
          "base_uri": "https://localhost:8080/"
        }
      },
      "source": [
        "# print(email_dataframe.columns)\n",
        "# email_dataframe = email_dataframe.head(10000)\n",
        "pd.set_option('display.max_columns', None)\n",
        "print(email_df)\n",
        "# .sort_values(['count'], ascending=False).head(5)\n",
        "# print(email_dataframe['From'])\n",
        "# email_dataframe['count'] = email_dataframe.groupby('From').count()\n",
        "# print(email_dataframe)\n",
        "# email_dataframe.sort('count', ascending=False)\n"
      ],
      "execution_count": 142,
      "outputs": [
        {
          "output_type": "stream",
          "text": [
            "                                           Message-ID                 Date  \\\n",
            "0       <18782981.1075855378110.JavaMail.evans@thyme>  2001-05-14 23:39:00   \n",
            "1       <15464986.1075855378456.JavaMail.evans@thyme>  2001-05-04 20:51:00   \n",
            "2       <24216240.1075855687451.JavaMail.evans@thyme>  2000-10-18 10:00:00   \n",
            "3       <13505866.1075863688222.JavaMail.evans@thyme>  2000-10-23 13:13:00   \n",
            "4       <30922949.1075863688243.JavaMail.evans@thyme>  2000-08-31 12:07:00   \n",
            "...                                               ...                  ...   \n",
            "517396  <26807948.1075842029936.JavaMail.evans@thyme>  2001-11-28 21:30:11   \n",
            "517397  <25835861.1075842029959.JavaMail.evans@thyme>  2001-11-28 20:47:48   \n",
            "517398  <28979867.1075842029988.JavaMail.evans@thyme>  2001-11-28 15:20:00   \n",
            "517399  <22052556.1075842030013.JavaMail.evans@thyme>  2001-11-27 19:52:45   \n",
            "517400  <28618979.1075842030037.JavaMail.evans@thyme>  2001-11-26 18:48:43   \n",
            "\n",
            "                           From                          To  \\\n",
            "0       phillip.allen@enron.com         im.belden@enron.com   \n",
            "1       phillip.allen@enron.com     john.lavorato@enron.com   \n",
            "2       phillip.allen@enron.com      leah.arsdall@enron.com   \n",
            "3       phillip.allen@enron.com        andall.gay@enron.com   \n",
            "4       phillip.allen@enron.com        greg.piper@enron.com   \n",
            "...                         ...                         ...   \n",
            "517396  john.zufferli@enron.com        kori.loibl@enron.com   \n",
            "517397  john.zufferli@enron.com     john.lavorato@enron.com   \n",
            "517398  john.zufferli@enron.com       dawn.doucet@enron.com   \n",
            "517399  john.zufferli@enron.com      jeanie.slone@enron.com   \n",
            "517400  john.zufferli@enron.com  livia_zufferli@monitor.com   \n",
            "\n",
            "                          Subject  \\\n",
            "0                             NaN   \n",
            "1                             Re:   \n",
            "2                        Re: test   \n",
            "3                             NaN   \n",
            "4                       Re: Hello   \n",
            "...                           ...   \n",
            "517396   Trade with John Lavorato   \n",
            "517397                 Gas Hedges   \n",
            "517398           RE: CONFIDENTIAL   \n",
            "517399  Calgary Analyst/Associate   \n",
            "517400           RE: ali's essays   \n",
            "\n",
            "                                                   X-From  \\\n",
            "0                                         Phillip K Allen   \n",
            "1                                         Phillip K Allen   \n",
            "2                                         Phillip K Allen   \n",
            "3                                         Phillip K Allen   \n",
            "4                                         Phillip K Allen   \n",
            "...                                                   ...   \n",
            "517396  Zufferli, John </O=ENRON/OU=NA/CN=RECIPIENTS/C...   \n",
            "517397  Zufferli, John </O=ENRON/OU=NA/CN=RECIPIENTS/C...   \n",
            "517398  Zufferli, John </O=ENRON/OU=NA/CN=RECIPIENTS/C...   \n",
            "517399  Zufferli, John </O=ENRON/OU=NA/CN=RECIPIENTS/C...   \n",
            "517400  Zufferli, John </O=ENRON/OU=NA/CN=RECIPIENTS/C...   \n",
            "\n",
            "                                                     X-To X-cc X-bcc  \\\n",
            "0                Tim Belden <Tim Belden/Enron@EnronXGate>  NaN   NaN   \n",
            "1       John J Lavorato <John J Lavorato/ENRON@enronXg...  NaN   NaN   \n",
            "2                                        Leah Van Arsdall  NaN   NaN   \n",
            "3                                           Randall L Gay  NaN   NaN   \n",
            "4                                              Greg Piper  NaN   NaN   \n",
            "...                                                   ...  ...   ...   \n",
            "517396  Loibl, Kori </O=ENRON/OU=NA/CN=RECIPIENTS/CN=K...  NaN   NaN   \n",
            "517397  Lavorato, John </O=ENRON/OU=NA/CN=RECIPIENTS/C...  NaN   NaN   \n",
            "517398  Doucet, Dawn </O=ENRON/OU=NA/CN=RECIPIENTS/CN=...  NaN   NaN   \n",
            "517399  Slone, Jeanie </O=ENRON/OU=NA/CN=RECIPIENTS/CN...  NaN   NaN   \n",
            "517400                 'Livia_Zufferli@Monitor.com@ENRON'  NaN   NaN   \n",
            "\n",
            "                                                 X-Folder    X-Origin  \\\n",
            "0       \\Phillip_Allen_Jan2002_1\\Allen, Phillip K.\\'Se...     Allen-P   \n",
            "1       \\Phillip_Allen_Jan2002_1\\Allen, Phillip K.\\'Se...     Allen-P   \n",
            "2         \\Phillip_Allen_Dec2000\\Notes Folders\\'sent mail     Allen-P   \n",
            "3         \\Phillip_Allen_Dec2000\\Notes Folders\\'sent mail     Allen-P   \n",
            "4         \\Phillip_Allen_Dec2000\\Notes Folders\\'sent mail     Allen-P   \n",
            "...                                                   ...         ...   \n",
            "517396               \\ExMerge - Zufferli, John\\Sent Items  ZUFFERLI-J   \n",
            "517397               \\ExMerge - Zufferli, John\\Sent Items  ZUFFERLI-J   \n",
            "517398               \\ExMerge - Zufferli, John\\Sent Items  ZUFFERLI-J   \n",
            "517399               \\ExMerge - Zufferli, John\\Sent Items  ZUFFERLI-J   \n",
            "517400               \\ExMerge - Zufferli, John\\Sent Items  ZUFFERLI-J   \n",
            "\n",
            "                         X-FileName  \\\n",
            "0       pallen (Non-Privileged).pst   \n",
            "1       pallen (Non-Privileged).pst   \n",
            "2                        pallen.nsf   \n",
            "3                        pallen.nsf   \n",
            "4                        pallen.nsf   \n",
            "...                             ...   \n",
            "517396    john zufferli 6-26-02.PST   \n",
            "517397    john zufferli 6-26-02.PST   \n",
            "517398    john zufferli 6-26-02.PST   \n",
            "517399    john zufferli 6-26-02.PST   \n",
            "517400    john zufferli 6-26-02.PST   \n",
            "\n",
            "                                                  content        user  \\\n",
            "0                                    Here is our forecast     allen-p   \n",
            "1       Traveling to have a business meeting takes the...     allen-p   \n",
            "2                           test successful. way to go!!!     allen-p   \n",
            "3       Randy, Can you send me a schedule of the salar...     allen-p   \n",
            "4                       Let's shoot for Tuesday at 11:45.     allen-p   \n",
            "...                                                   ...         ...   \n",
            "517396  This is a trade with OIL-SPEC-HEDGE-NG (John L...  zufferli-j   \n",
            "517397  Some of my position is with the Alberta Term b...  zufferli-j   \n",
            "517398  2 -----Original Message----- From: Doucet, Daw...  zufferli-j   \n",
            "517399  Analyst Rank Stephane Brodeur 1 Chad Clark 1 I...  zufferli-j   \n",
            "517400  i think the YMCA has a class that is for peopl...  zufferli-j   \n",
            "\n",
            "        Cat_1_level_1  Cat_1_level_2  Cat_1_weight  Cat_2_level_1  \\\n",
            "0                 NaN            NaN           NaN            NaN   \n",
            "1                 NaN            NaN           NaN            NaN   \n",
            "2                 NaN            NaN           NaN            NaN   \n",
            "3                 NaN            NaN           NaN            NaN   \n",
            "4                 NaN            NaN           NaN            NaN   \n",
            "...               ...            ...           ...            ...   \n",
            "517396            NaN            NaN           NaN            NaN   \n",
            "517397            NaN            NaN           NaN            NaN   \n",
            "517398            NaN            NaN           NaN            NaN   \n",
            "517399            NaN            NaN           NaN            NaN   \n",
            "517400            NaN            NaN           NaN            NaN   \n",
            "\n",
            "        Cat_2_level_2  Cat_2_weight  Cat_3_level_1  Cat_3_level_2  \\\n",
            "0                 NaN           NaN            NaN            NaN   \n",
            "1                 NaN           NaN            NaN            NaN   \n",
            "2                 NaN           NaN            NaN            NaN   \n",
            "3                 NaN           NaN            NaN            NaN   \n",
            "4                 NaN           NaN            NaN            NaN   \n",
            "...               ...           ...            ...            ...   \n",
            "517396            NaN           NaN            NaN            NaN   \n",
            "517397            NaN           NaN            NaN            NaN   \n",
            "517398            NaN           NaN            NaN            NaN   \n",
            "517399            NaN           NaN            NaN            NaN   \n",
            "517400            NaN           NaN            NaN            NaN   \n",
            "\n",
            "        Cat_3_weight  Cat_4_level_1  Cat_4_level_2  Cat_4_weight  \\\n",
            "0                NaN            NaN            NaN           NaN   \n",
            "1                NaN            NaN            NaN           NaN   \n",
            "2                NaN            NaN            NaN           NaN   \n",
            "3                NaN            NaN            NaN           NaN   \n",
            "4                NaN            NaN            NaN           NaN   \n",
            "...              ...            ...            ...           ...   \n",
            "517396           NaN            NaN            NaN           NaN   \n",
            "517397           NaN            NaN            NaN           NaN   \n",
            "517398           NaN            NaN            NaN           NaN   \n",
            "517399           NaN            NaN            NaN           NaN   \n",
            "517400           NaN            NaN            NaN           NaN   \n",
            "\n",
            "        Cat_5_level_1  Cat_5_level_2  Cat_5_weight  Cat_6_level_1  \\\n",
            "0                 NaN            NaN           NaN            NaN   \n",
            "1                 NaN            NaN           NaN            NaN   \n",
            "2                 NaN            NaN           NaN            NaN   \n",
            "3                 NaN            NaN           NaN            NaN   \n",
            "4                 NaN            NaN           NaN            NaN   \n",
            "...               ...            ...           ...            ...   \n",
            "517396            NaN            NaN           NaN            NaN   \n",
            "517397            NaN            NaN           NaN            NaN   \n",
            "517398            NaN            NaN           NaN            NaN   \n",
            "517399            NaN            NaN           NaN            NaN   \n",
            "517400            NaN            NaN           NaN            NaN   \n",
            "\n",
            "        Cat_6_level_2  Cat_6_weight  Cat_7_level_1  Cat_7_level_2  \\\n",
            "0                 NaN           NaN            NaN            NaN   \n",
            "1                 NaN           NaN            NaN            NaN   \n",
            "2                 NaN           NaN            NaN            NaN   \n",
            "3                 NaN           NaN            NaN            NaN   \n",
            "4                 NaN           NaN            NaN            NaN   \n",
            "...               ...           ...            ...            ...   \n",
            "517396            NaN           NaN            NaN            NaN   \n",
            "517397            NaN           NaN            NaN            NaN   \n",
            "517398            NaN           NaN            NaN            NaN   \n",
            "517399            NaN           NaN            NaN            NaN   \n",
            "517400            NaN           NaN            NaN            NaN   \n",
            "\n",
            "        Cat_7_weight  Cat_8_level_1  Cat_8_level_2  Cat_8_weight  \\\n",
            "0                NaN            NaN            NaN           NaN   \n",
            "1                NaN            NaN            NaN           NaN   \n",
            "2                NaN            NaN            NaN           NaN   \n",
            "3                NaN            NaN            NaN           NaN   \n",
            "4                NaN            NaN            NaN           NaN   \n",
            "...              ...            ...            ...           ...   \n",
            "517396           NaN            NaN            NaN           NaN   \n",
            "517397           NaN            NaN            NaN           NaN   \n",
            "517398           NaN            NaN            NaN           NaN   \n",
            "517399           NaN            NaN            NaN           NaN   \n",
            "517400           NaN            NaN            NaN           NaN   \n",
            "\n",
            "        Cat_9_level_1  Cat_9_level_2  Cat_9_weight  Cat_10_level_1  \\\n",
            "0                 NaN            NaN           NaN             NaN   \n",
            "1                 NaN            NaN           NaN             NaN   \n",
            "2                 NaN            NaN           NaN             NaN   \n",
            "3                 NaN            NaN           NaN             NaN   \n",
            "4                 NaN            NaN           NaN             NaN   \n",
            "...               ...            ...           ...             ...   \n",
            "517396            NaN            NaN           NaN             NaN   \n",
            "517397            NaN            NaN           NaN             NaN   \n",
            "517398            NaN            NaN           NaN             NaN   \n",
            "517399            NaN            NaN           NaN             NaN   \n",
            "517400            NaN            NaN           NaN             NaN   \n",
            "\n",
            "        Cat_10_level_2  Cat_10_weight  Cat_11_level_1  Cat_11_level_2  \\\n",
            "0                  NaN            NaN             NaN             NaN   \n",
            "1                  NaN            NaN             NaN             NaN   \n",
            "2                  NaN            NaN             NaN             NaN   \n",
            "3                  NaN            NaN             NaN             NaN   \n",
            "4                  NaN            NaN             NaN             NaN   \n",
            "...                ...            ...             ...             ...   \n",
            "517396             NaN            NaN             NaN             NaN   \n",
            "517397             NaN            NaN             NaN             NaN   \n",
            "517398             NaN            NaN             NaN             NaN   \n",
            "517399             NaN            NaN             NaN             NaN   \n",
            "517400             NaN            NaN             NaN             NaN   \n",
            "\n",
            "        Cat_11_weight  Cat_12_level_1  Cat_12_level_2  Cat_12_weight  labeled  \n",
            "0                 NaN             NaN             NaN            NaN    False  \n",
            "1                 NaN             NaN             NaN            NaN    False  \n",
            "2                 NaN             NaN             NaN            NaN    False  \n",
            "3                 NaN             NaN             NaN            NaN    False  \n",
            "4                 NaN             NaN             NaN            NaN    False  \n",
            "...               ...             ...             ...            ...      ...  \n",
            "517396            NaN             NaN             NaN            NaN    False  \n",
            "517397            NaN             NaN             NaN            NaN    False  \n",
            "517398            NaN             NaN             NaN            NaN    False  \n",
            "517399            NaN             NaN             NaN            NaN    False  \n",
            "517400            NaN             NaN             NaN            NaN    False  \n",
            "\n",
            "[517401 rows x 51 columns]\n"
          ],
          "name": "stdout"
        }
      ]
    },
    {
      "cell_type": "code",
      "metadata": {
        "id": "lVfXB4ajh9h5"
      },
      "source": [
        ""
      ],
      "execution_count": null,
      "outputs": []
    }
  ]
}